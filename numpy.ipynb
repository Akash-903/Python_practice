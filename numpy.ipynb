{
 "cells": [
  {
   "cell_type": "code",
   "execution_count": 1,
   "id": "48acd0e7-6c73-4ee7-a656-4f7ae8f1f80f",
   "metadata": {},
   "outputs": [
    {
     "data": {
      "text/plain": [
       "6"
      ]
     },
     "execution_count": 1,
     "metadata": {},
     "output_type": "execute_result"
    }
   ],
   "source": [
    "x=6\n",
    "x"
   ]
  },
  {
   "cell_type": "markdown",
   "id": "808f9873-ff96-4b6a-a73c-8a62d3baac02",
   "metadata": {},
   "source": [
    "India"
   ]
  },
  {
   "cell_type": "markdown",
   "id": "14a9e217-70b4-428b-876d-3f9796c6369d",
   "metadata": {},
   "source": [
    "population=100"
   ]
  },
  {
   "cell_type": "markdown",
   "id": "511e9e4e-38b3-45bb-bacc-8477e16ed1e7",
   "metadata": {},
   "source": [
    "# Numpy\n",
    "Numpy is a Linear Algebra Library in Python and it is the holy grail and the main building block of Data Sc in the PyData Ecosystem rely on NumPy as one of their main building blocks. "
   ]
  },
  {
   "cell_type": "code",
   "execution_count": 3,
   "id": "22bf1a51-8ce4-4a42-a74d-4aa5efeaf717",
   "metadata": {},
   "outputs": [
    {
     "name": "stdout",
     "output_type": "stream",
     "text": [
      "Requirement already satisfied: numpy in c:\\users\\ramesh\\anaconda3\\lib\\site-packages (2.1.3)Note: you may need to restart the kernel to use updated packages.\n",
      "\n"
     ]
    }
   ],
   "source": [
    "pip install numpy"
   ]
  },
  {
   "cell_type": "code",
   "execution_count": 8,
   "id": "92c2a50c-18c7-46f3-b611-93703efcc532",
   "metadata": {
    "scrolled": true
   },
   "outputs": [
    {
     "data": {
      "text/plain": [
       "array([1, 2, 3, 4])"
      ]
     },
     "execution_count": 8,
     "metadata": {},
     "output_type": "execute_result"
    }
   ],
   "source": [
    "import numpy as np\n",
    "arr1 = np.array([1,2,3,4])\n",
    "arr1"
   ]
  },
  {
   "cell_type": "code",
   "execution_count": 12,
   "id": "d3047343-e527-4e14-9381-c0990353b9ca",
   "metadata": {},
   "outputs": [
    {
     "data": {
      "text/plain": [
       "1"
      ]
     },
     "execution_count": 12,
     "metadata": {},
     "output_type": "execute_result"
    }
   ],
   "source": [
    "arr1.ndim"
   ]
  },
  {
   "cell_type": "code",
   "execution_count": 13,
   "id": "83830cc4-5884-499b-b4bd-f01bc0bca2ba",
   "metadata": {},
   "outputs": [
    {
     "data": {
      "text/plain": [
       "(4,)"
      ]
     },
     "execution_count": 13,
     "metadata": {},
     "output_type": "execute_result"
    }
   ],
   "source": [
    "arr1.shape"
   ]
  },
  {
   "cell_type": "markdown",
   "id": "888aae88-aa2c-44d0-931e-df2887a47336",
   "metadata": {},
   "source": [
    "# array can be of n dimensional"
   ]
  },
  {
   "cell_type": "code",
   "execution_count": 14,
   "id": "d7b44946-affc-4a16-af02-0234367774d1",
   "metadata": {},
   "outputs": [
    {
     "data": {
      "text/plain": [
       "[[1, 2, 3, 4], [5, 6, 7, 8], [9, 1, 2, 3]]"
      ]
     },
     "execution_count": 14,
     "metadata": {},
     "output_type": "execute_result"
    }
   ],
   "source": [
    "my_m=[[1,2,3,4],[5,6,7,8],[9,1,2,3]]\n",
    "my_m"
   ]
  },
  {
   "cell_type": "code",
   "execution_count": 15,
   "id": "66aca510-2513-4b27-840a-d302e57104cc",
   "metadata": {},
   "outputs": [
    {
     "data": {
      "text/plain": [
       "array([[1, 2, 3, 4],\n",
       "       [5, 6, 7, 8],\n",
       "       [9, 1, 2, 3]])"
      ]
     },
     "execution_count": 15,
     "metadata": {},
     "output_type": "execute_result"
    }
   ],
   "source": [
    "b=np.array(my_m)\n",
    "b"
   ]
  },
  {
   "cell_type": "raw",
   "id": "4560f835-a205-477a-bac4-923e15595a96",
   "metadata": {},
   "source": [
    "print(\"The dimension of array:\", b.ndim)\n"
   ]
  },
  {
   "cell_type": "code",
   "execution_count": 13,
   "id": "a7ba4650-759d-47f8-9c6e-82cf8370da7c",
   "metadata": {},
   "outputs": [],
   "source": [
    "import numpy as np\n",
    "\n",
    "# Integer types\n",
    "int8_arr = np.array([1, 2, 3], dtype=np.int8)\n",
    "int16_arr = np.array([1000, -2000, 30001], dtype=np.int16)\n",
    "int32_arr = np.array([-100000, 200000, 300000], dtype=np.int32)\n",
    "int64_arr = np.array([10000000000, 200000000001], dtype=np.int64)\n"
   ]
  },
  {
   "cell_type": "code",
   "execution_count": 2,
   "id": "db2ec327-a2de-4f09-a74c-93e4dc485532",
   "metadata": {},
   "outputs": [],
   "source": [
    "# Unsigned integers (only positive values)\n",
    "uint8_arr = np.array([0, 255, 100], dtype=np.uint8)\n",
    "uint16_arr = np.array([1000, 60000], dtype=np.uint16)"
   ]
  },
  {
   "cell_type": "code",
   "execution_count": 6,
   "id": "0cd4a524-a7d1-4848-bec2-267aa76d43a6",
   "metadata": {},
   "outputs": [],
   "source": [
    "# Unsigned integers (only positive values)\n",
    "u8 = np.array([0, 255, 100], dtype=np.uint8)\n",
    "u16 = np.array([1000, 60000], dtype=np.uint16)\n"
   ]
  },
  {
   "cell_type": "code",
   "execution_count": 11,
   "id": "b77542f3-3815-48d1-92bc-0a9ecb2a47bb",
   "metadata": {},
   "outputs": [],
   "source": [
    "import numpy as np\n",
    "# Complex types\n",
    "c64 = np.array([1+2j, 3+4j], dtype=np.complex64)\n",
    "c128 = np.array([1+2j, 3+4j], dtype=np.complex128)\n"
   ]
  },
  {
   "cell_type": "code",
   "execution_count": 9,
   "id": "7404c538-aeb9-40b0-aaf5-19e1adbcd15e",
   "metadata": {},
   "outputs": [
    {
     "name": "stdout",
     "output_type": "stream",
     "text": [
      "[ True False  True]\n"
     ]
    }
   ],
   "source": [
    "import numpy as np\n",
    "\n",
    "# Boolean type\n",
    "bool_array = np.array([True, False, True], dtype=bool)\n",
    "print(bool_array)\n"
   ]
  },
  {
   "cell_type": "markdown",
   "id": "1f9ee098-646b-4f1b-b6b5-bddadb264bea",
   "metadata": {},
   "source": []
  }
 ],
 "metadata": {
  "kernelspec": {
   "display_name": "Python [conda env:base] *",
   "language": "python",
   "name": "conda-base-py"
  },
  "language_info": {
   "codemirror_mode": {
    "name": "ipython",
    "version": 3
   },
   "file_extension": ".py",
   "mimetype": "text/x-python",
   "name": "python",
   "nbconvert_exporter": "python",
   "pygments_lexer": "ipython3",
   "version": "3.13.5"
  }
 },
 "nbformat": 4,
 "nbformat_minor": 5
}

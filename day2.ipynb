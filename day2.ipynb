{
 "cells": [
  {
   "cell_type": "code",
   "execution_count": 1,
   "id": "e90d534e-2068-495c-ad04-38a9b0cb7e1f",
   "metadata": {},
   "outputs": [
    {
     "name": "stdin",
     "output_type": "stream",
     "text": [
      " 5\n"
     ]
    },
    {
     "name": "stdout",
     "output_type": "stream",
     "text": [
      "78.57142857142857\n"
     ]
    }
   ],
   "source": [
    "x=int(input())\n",
    "area=22/7*(x**2)\n",
    "print(area)"
   ]
  },
  {
   "cell_type": "code",
   "execution_count": 6,
   "id": "0d3e1748-955a-498b-a435-1612ec9b412c",
   "metadata": {},
   "outputs": [
    {
     "name": "stdin",
     "output_type": "stream",
     "text": [
      " Hyderabad\n"
     ]
    },
    {
     "name": "stdout",
     "output_type": "stream",
     "text": [
      "3\n"
     ]
    }
   ],
   "source": [
    "x=input()\n",
    "count=0\n",
    "for chr in x:\n",
    "    if chr in \"AEIOUaeiou\":\n",
    "        count+=1\n",
    "print(count)"
   ]
  },
  {
   "cell_type": "code",
   "execution_count": 14,
   "id": "258724a6-6dad-4736-9a0c-2e17859e1b26",
   "metadata": {},
   "outputs": [
    {
     "name": "stdin",
     "output_type": "stream",
     "text": [
      " India\n"
     ]
    },
    {
     "name": "stdout",
     "output_type": "stream",
     "text": [
      "3\n"
     ]
    }
   ],
   "source": [
    "x=input()\n",
    "vowels=\"AEIOUaieou\"\n",
    "c=0\n",
    "for i in x:\n",
    "    if i not in vowels:\n",
    "        c+=1\n",
    "print(count)"
   ]
  },
  {
   "cell_type": "code",
   "execution_count": 17,
   "id": "ac9a2b22-108c-4f60-8ca2-520847d84433",
   "metadata": {},
   "outputs": [
    {
     "name": "stdout",
     "output_type": "stream",
     "text": [
      "[6.0, 42, 56, 14.0, 9.0, 7.0]\n"
     ]
    }
   ],
   "source": [
    "n = [30, 42, 56, 70, 45, 35]\n",
    "a= []\n",
    "for i in n:\n",
    "    if i % 5 == 0:\n",
    "        a.append(i / 5)\n",
    "    else:\n",
    "        a.append(i)\n",
    "print(a)"
   ]
  },
  {
   "cell_type": "code",
   "execution_count": 18,
   "id": "d1e1140c-652e-428e-8393-8910b8ed55f7",
   "metadata": {},
   "outputs": [
    {
     "name": "stdout",
     "output_type": "stream",
     "text": [
      "[23, 45, 99, 20]\n",
      "[24, 67, 54]\n"
     ]
    }
   ],
   "source": [
    "n = [23, 24, 45, 67, 99, 54, 20]\n",
    "e = []  \n",
    "o = []  \n",
    "for i in range(len(n)):\n",
    "    if i % 2 == 0:\n",
    "        e.append(n[i])\n",
    "    else:\n",
    "        o.append(n[i])\n",
    "\n",
    "print(e)\n",
    "print(o)"
   ]
  },
  {
   "cell_type": "code",
   "execution_count": 22,
   "id": "4d9f8cc3-b996-4e99-bfd0-0dbddcb1ec2f",
   "metadata": {},
   "outputs": [
    {
     "name": "stdout",
     "output_type": "stream",
     "text": [
      "150\n",
      "310\n"
     ]
    }
   ],
   "source": [
    "n=[20,35,45,30,60,75,85,45,25,40]\n",
    "q=0\n",
    "p=0\n",
    "for i in n:\n",
    "    if i%2==0:\n",
    "        q+=i\n",
    "    else:\n",
    "        p+=i\n",
    "print(q)\n",
    "print(p)"
   ]
  },
  {
   "cell_type": "code",
   "execution_count": 23,
   "id": "334cc96f-2f90-4bd4-ba8b-f3aabc85d5eb",
   "metadata": {},
   "outputs": [
    {
     "name": "stdout",
     "output_type": "stream",
     "text": [
      "16\n",
      "29\n"
     ]
    }
   ],
   "source": [
    "n=[20,35,45,30,60,75,85,45,25,40]\n",
    "o=0\n",
    "e=0\n",
    "for i in range(len(n)):\n",
    "    if n[i] % 2 == 0:\n",
    "        e+=i\n",
    "    else:\n",
    "        o+=i\n",
    "print(e)\n",
    "print(o)"
   ]
  },
  {
   "cell_type": "code",
   "execution_count": 24,
   "id": "5b74ab1b-08fd-4eca-8caf-f95d7c79d13d",
   "metadata": {},
   "outputs": [
    {
     "name": "stdout",
     "output_type": "stream",
     "text": [
      "['delhi', 'Dubai', 'Dadar', 'Danish', 'daridam']\n"
     ]
    }
   ],
   "source": [
    "n = ['Mumbai', 'Hyd', 'delhi', 'Dubai', 'Jaipur', 'Kolkata', 'Chennai', 'Dadar', 'Danish', 'japan', 'madhya', 'hero', 'daridam']\n",
    "d = []\n",
    "for chr in n:\n",
    "    if chr.startswith('D') or chr.startswith('d'):\n",
    "        d.append(chr)\n",
    "print(d)"
   ]
  },
  {
   "cell_type": "code",
   "execution_count": 29,
   "id": "49d5ee06-e01a-4bd8-b913-e639b9d76732",
   "metadata": {},
   "outputs": [
    {
     "name": "stdout",
     "output_type": "stream",
     "text": [
      "{'Mumbai': 50, 'Hyd': 40, 'delhi': 30, 'Dubai': 20, 'Jaipur': 100, 'Kolkata': 350, 'Chennai': 280, 'Dadar': 200}\n"
     ]
    }
   ],
   "source": [
    "n = ['Mumbai', 'Hyd', 'delhi', 'Dubai', 'Jaipur', 'Kolkata', 'Chennai', 'Dadar']\n",
    "i = [50, 40, 30, 20, 100, 350, 280, 200]\n",
    "d = {}\n",
    "for a in range(len(i)):\n",
    "    d[n[a]] = i[a]\n",
    "print(d)\n"
   ]
  },
  {
   "cell_type": "code",
   "execution_count": 2,
   "id": "7cbd9d8b-9d27-46d6-a083-009323c80076",
   "metadata": {},
   "outputs": [
    {
     "name": "stdout",
     "output_type": "stream",
     "text": [
      "Mumbai\n",
      "Hyd\n",
      "delhi\n",
      "Dubai\n"
     ]
    }
   ],
   "source": [
    "d = {\n",
    "    'Mumbai': 50,'Hyd': 40,'delhi': 30,'Dubai': 20,'Jaipur': 100,'Kolkata': 350,'Chennai': 280,'Dadar': 200\n",
    "}\n",
    "\n",
    "for c, v in d.items():\n",
    "    if v < 100:\n",
    "        print(c)\n"
   ]
  },
  {
   "cell_type": "code",
   "execution_count": 3,
   "id": "2982b298-9743-48c8-9acd-dd5e6dfd74da",
   "metadata": {},
   "outputs": [
    {
     "name": "stdin",
     "output_type": "stream",
     "text": [
      " 5\n"
     ]
    },
    {
     "name": "stdout",
     "output_type": "stream",
     "text": [
      "78.57142857142857\n"
     ]
    }
   ],
   "source": [
    "def area(r):\n",
    "    pi = 22 / 7\n",
    "    return pi * (r ** 2)\n",
    "x = int(input())\n",
    "a = area(x)\n",
    "print(a)"
   ]
  },
  {
   "cell_type": "code",
   "execution_count": 4,
   "id": "4f3647c0-be59-467c-a61f-7e7103eb9ee8",
   "metadata": {},
   "outputs": [
    {
     "name": "stdin",
     "output_type": "stream",
     "text": [
      " Hyderabad\n"
     ]
    },
    {
     "name": "stdout",
     "output_type": "stream",
     "text": [
      "3\n"
     ]
    }
   ],
   "source": [
    "def count(n):\n",
    "    count = 0\n",
    "    for chr in n:\n",
    "        if chr in \"aeiouAEIOU\":\n",
    "            count += 1\n",
    "    return count\n",
    "n = input()\n",
    "print(count(n))"
   ]
  },
  {
   "cell_type": "code",
   "execution_count": 9,
   "id": "783eaaa4-cdd4-41db-bc95-81dc73475474",
   "metadata": {},
   "outputs": [
    {
     "name": "stdin",
     "output_type": "stream",
     "text": [
      "Enter text:  India\n"
     ]
    },
    {
     "name": "stdout",
     "output_type": "stream",
     "text": [
      "Consonants: 2\n",
      "Vowels: 3\n"
     ]
    }
   ],
   "source": [
    "def count(text):\n",
    "    vowels = \"aeiouAEIOU\"\n",
    "    v = 0\n",
    "    c = 0\n",
    "    for char in text:\n",
    "        if char.isalpha():\n",
    "            if char in vowels:\n",
    "                v+= 1\n",
    "            else:\n",
    "                c+= 1\n",
    "    return c, v\n",
    "x = input(\"Enter text: \")\n",
    "c, v = count(x)\n",
    "print(\"Consonants:\", c)\n",
    "print(\"Vowels:\", v)\n"
   ]
  },
  {
   "cell_type": "code",
   "execution_count": 7,
   "id": "cafd2964-01f0-453f-92c4-a23fccc72fbf",
   "metadata": {},
   "outputs": [
    {
     "name": "stdout",
     "output_type": "stream",
     "text": [
      "[6.0, 42, 56, 14.0, 9.0, 7.0]\n"
     ]
    }
   ],
   "source": [
    "def list(n):\n",
    "    a = []\n",
    "    for i in n:\n",
    "        if i % 5 == 0:\n",
    "            a.append(i / 5)\n",
    "        else:\n",
    "            a.append(i)\n",
    "    return a\n",
    "n = [30, 42, 56, 70, 45, 35]\n",
    "r = list(n)\n",
    "print(r)"
   ]
  },
  {
   "cell_type": "code",
   "execution_count": 8,
   "id": "70e5d09f-a9ce-439a-94ff-34088834bb5a",
   "metadata": {},
   "outputs": [
    {
     "name": "stdout",
     "output_type": "stream",
     "text": [
      "[23, 45, 99, 20]\n",
      "[24, 67, 54]\n"
     ]
    }
   ],
   "source": [
    "def split(lst):\n",
    "    even = []\n",
    "    odd = []\n",
    "    for i in range(len(lst)):\n",
    "        if i % 2 == 0:\n",
    "            even.append(lst[i])\n",
    "        else:\n",
    "            odd.append(lst[i])\n",
    "    return even, odd\n",
    "\n",
    "n = [23, 24, 45, 67, 99, 54, 20]\n",
    "e, o = split(n)\n",
    "print(e)\n",
    "print(o)"
   ]
  },
  {
   "cell_type": "code",
   "execution_count": null,
   "id": "037db853-45c4-410c-bdf4-e71ce0f8ab1d",
   "metadata": {},
   "outputs": [],
   "source": []
  }
 ],
 "metadata": {
  "kernelspec": {
   "display_name": "Python [conda env:base] *",
   "language": "python",
   "name": "conda-base-py"
  },
  "language_info": {
   "codemirror_mode": {
    "name": "ipython",
    "version": 3
   },
   "file_extension": ".py",
   "mimetype": "text/x-python",
   "name": "python",
   "nbconvert_exporter": "python",
   "pygments_lexer": "ipython3",
   "version": "3.13.5"
  }
 },
 "nbformat": 4,
 "nbformat_minor": 5
}

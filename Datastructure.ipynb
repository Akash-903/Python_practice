{
 "cells": [
  {
   "cell_type": "code",
   "execution_count": null,
   "id": "2db59dca-d567-4ec6-b619-6cfd36d58a70",
   "metadata": {},
   "outputs": [],
   "source": [
    "'''\n",
    "1.List is a data structyre in python \n",
    "2.list is mutable and it allows dupicate values\n",
    "3.Append() method is used to append the values to existing list\n",
    "4.using append method we can ad single element or multiple elment\n",
    "5.list foloows indexing order\n",
    "\n",
    "'''"
   ]
  },
  {
   "cell_type": "code",
   "execution_count": 1,
   "id": "dc4cdc67-2b65-4809-9168-2def272561fe",
   "metadata": {},
   "outputs": [
    {
     "data": {
      "text/plain": [
       "[1, 2, 3, 4, 5, 6, 8]"
      ]
     },
     "execution_count": 1,
     "metadata": {},
     "output_type": "execute_result"
    }
   ],
   "source": [
    "a=[1,2,3,4,5,6,8]\n",
    "a"
   ]
  },
  {
   "cell_type": "code",
   "execution_count": 4,
   "id": "c882eb7b-3de9-48a7-9cb2-57480dcfd261",
   "metadata": {},
   "outputs": [
    {
     "name": "stdout",
     "output_type": "stream",
     "text": [
      "[1, 2, 3, 4, 5, 6, 7, 7, 7, 8]\n"
     ]
    }
   ],
   "source": [
    "a.insert(6,7)\n",
    "\n",
    "print(a)"
   ]
  },
  {
   "cell_type": "code",
   "execution_count": 5,
   "id": "be479bf6-879c-480b-a34d-641834ded947",
   "metadata": {},
   "outputs": [
    {
     "name": "stdout",
     "output_type": "stream",
     "text": [
      "[1, 2, 3, 4, 5, 6, 7, 7, 7, 7, 8]\n"
     ]
    }
   ],
   "source": [
    "a.insert(6,7)\n",
    "\n",
    "print(a)"
   ]
  },
  {
   "cell_type": "code",
   "execution_count": 8,
   "id": "dc4c5c81-02d6-435b-9f82-6bb7b18dd921",
   "metadata": {},
   "outputs": [
    {
     "name": "stdout",
     "output_type": "stream",
     "text": [
      "[1, 2, 3, 4, 5, 6, 7, 8]\n"
     ]
    }
   ],
   "source": [
    "a.pop(7)\n",
    "print(a)"
   ]
  },
  {
   "cell_type": "code",
   "execution_count": 12,
   "id": "593df425-988b-4657-840c-bf6f25652ba9",
   "metadata": {},
   "outputs": [
    {
     "name": "stdout",
     "output_type": "stream",
     "text": [
      "[1, 2, [1, 2, 3, 4], 3, 4, 5, 6, 7, 8]\n"
     ]
    }
   ],
   "source": [
    "b=[1,2,3,4]\n",
    "a.insert(2,b)\n",
    "print(a)"
   ]
  },
  {
   "cell_type": "code",
   "execution_count": 15,
   "id": "193144e2-bf5d-478f-8ec1-9019d8d475b3",
   "metadata": {},
   "outputs": [
    {
     "name": "stdout",
     "output_type": "stream",
     "text": [
      "[3, 4, 5, 7, 8, 9]\n"
     ]
    }
   ],
   "source": [
    "a=[3,4,5]\n",
    "b=[7,8,9]\n",
    "a.extend(b)\n",
    "print(a)"
   ]
  },
  {
   "cell_type": "code",
   "execution_count": 16,
   "id": "4c6892b9-ce7e-40e5-b68f-2b1d29bff79f",
   "metadata": {},
   "outputs": [],
   "source": [
    "'''\n",
    "append(): it is used to add element in a end of the list \n",
    "#          it provides single index position for multiple values also\n",
    "# insert (): it is used to insert an element in a specific index\n",
    "# extend(): it is used to add list of elements to exisiting list \n",
    "# it provides seperate index position for each value\n",
    "'''"
   ]
  },
  {
   "cell_type": "code",
   "execution_count": 22,
   "id": "0e4cb0aa-3aba-438f-89cc-dcffc04141b1",
   "metadata": {},
   "outputs": [
    {
     "name": "stdout",
     "output_type": "stream",
     "text": [
      "[1, 2, 3]\n"
     ]
    }
   ],
   "source": [
    "list=[1,2,3,4]\n",
    "#print(list)\n",
    "list.pop()\n",
    "print(list)"
   ]
  },
  {
   "cell_type": "code",
   "execution_count": 23,
   "id": "7c079667-92cf-4b7c-a442-0532c1cd82d5",
   "metadata": {},
   "outputs": [
    {
     "data": {
      "text/plain": [
       "'\\npop - remove last elemnt \\n\\n'"
      ]
     },
     "execution_count": 23,
     "metadata": {},
     "output_type": "execute_result"
    }
   ],
   "source": [
    "'''\n",
    "pop() - remove last elemnt \n",
    "pop(index) -remove index elemnt\n",
    "remove()- remove the value(only first occurnce)\n",
    "sort()=sort all elemnts \n",
    "'''"
   ]
  },
  {
   "cell_type": "code",
   "execution_count": 29,
   "id": "a3caf557-72e7-4ed6-8d98-9191e562123b",
   "metadata": {},
   "outputs": [
    {
     "name": "stdout",
     "output_type": "stream",
     "text": [
      "[1, 4, 3, 4, 5]\n",
      "[1, 3, 4, 4, 5]\n",
      "[5, 4, 4, 3, 1]\n",
      "[5, 4, 4, 3, 1]\n",
      "[5, 4, 4, 3, 1, 100]\n",
      "[5, 4, 4, 3, 1]\n"
     ]
    }
   ],
   "source": [
    "l=[1,4,3,3,4,5]\n",
    "l.remove(3)\n",
    "print(l)\n",
    "l.sort()\n",
    "print(l)\n",
    "\n",
    "l.sort(reverse=True)\n",
    "print(l)\n",
    "\n",
    "l1=l.copy()\n",
    "print(l1)\n",
    "\n",
    "l1.append(100)\n",
    "print(l1)\n",
    "print(l)"
   ]
  },
  {
   "cell_type": "code",
   "execution_count": 30,
   "id": "498e3129-24e3-43f9-a966-c58c93cbe37f",
   "metadata": {},
   "outputs": [
    {
     "data": {
      "text/plain": [
       "'\\nindex(value)-tells in which index the value is \\ncount(value)-tells how many times the value is present in the list\\n'"
      ]
     },
     "execution_count": 30,
     "metadata": {},
     "output_type": "execute_result"
    }
   ],
   "source": [
    "'''\n",
    "index(value)-tells in which index the value is \n",
    "count(value)-tells how many times the value is present in the list\n",
    "'''"
   ]
  },
  {
   "cell_type": "code",
   "execution_count": 31,
   "id": "27b1c060-7ef6-4917-b3c2-899f3a763d72",
   "metadata": {},
   "outputs": [
    {
     "name": "stdout",
     "output_type": "stream",
     "text": [
      "2\n",
      "1\n"
     ]
    }
   ],
   "source": [
    "list=[12,3,4,5,6]\n",
    "print(list.index(4))\n",
    "print(list.count(6))"
   ]
  },
  {
   "cell_type": "code",
   "execution_count": 32,
   "id": "6ade1997-a57a-4f5c-8c93-49b05dfcc6cd",
   "metadata": {},
   "outputs": [
    {
     "data": {
      "text/plain": [
       "'\\nappend()\\nextend()\\ninsert()\\nremove()\\npop()\\nclear()\\nindex()\\ncount()\\nsort()\\nreverse()\\ncopy()\\n\\n\\n'"
      ]
     },
     "execution_count": 32,
     "metadata": {},
     "output_type": "execute_result"
    }
   ],
   "source": [
    "'''\n",
    "append()\n",
    "extend()\n",
    "insert()\n",
    "remove()\n",
    "pop()\n",
    "clear()\n",
    "index()\n",
    "count()\n",
    "sort()\n",
    "reverse()\n",
    "copy()\n",
    "\n",
    "\n",
    "'''"
   ]
  },
  {
   "cell_type": "code",
   "execution_count": 33,
   "id": "781c7564-d7f9-4918-a1a2-f8c22c669f4c",
   "metadata": {},
   "outputs": [
    {
     "name": "stdout",
     "output_type": "stream",
     "text": [
      "78"
     ]
    }
   ],
   "source": [
    "a=[23,78,45,67,89]\n",
    "for i in a:\n",
    "    if i%2==0:\n",
    "        print(i,end=\"\")"
   ]
  },
  {
   "cell_type": "code",
   "execution_count": 1,
   "id": "69277c35-0871-4143-911a-e0d8e3a7fdc8",
   "metadata": {},
   "outputs": [
    {
     "name": "stdout",
     "output_type": "stream",
     "text": [
      "Prime numbers in the list are:\n",
      "3\n",
      "5\n",
      "7\n",
      "11\n",
      "17\n",
      "19\n"
     ]
    }
   ],
   "source": [
    "# Write a program to print prime numbers in a given list\n",
    "numbers = [10, 3, 5, 12, 7, 9, 11, 15, 17, 19]\n",
    "print(\"Prime numbers in the list are:\")\n",
    "for num in numbers:\n",
    "    if num > 1:  \n",
    "        is_prime = True\n",
    "        for i in range(2, int(num ** 0.5) + 1):\n",
    "            if num % i == 0:\n",
    "                is_prime = False\n",
    "                break\n",
    "        if is_prime:\n",
    "            print(num)"
   ]
  },
  {
   "cell_type": "code",
   "execution_count": 3,
   "id": "e07ed075-ab16-4d7a-9d03-8ea8752f3648",
   "metadata": {},
   "outputs": [
    {
     "name": "stdout",
     "output_type": "stream",
     "text": [
      "Second maximum element: 45\n"
     ]
    }
   ],
   "source": [
    "# write a program to print second max element in a given list\n",
    "nums = [10, 25, 4, 98, 45, 98]\n",
    "unique_nums = list(set(nums))\n",
    "unique_nums.sort(reverse=True)\n",
    "if len(unique_nums) >= 2:\n",
    "    print(\"Second maximum element:\", unique_nums[1])\n",
    "else:\n",
    "    print(\"No second maximum element found.\")\n"
   ]
  },
  {
   "cell_type": "code",
   "execution_count": 5,
   "id": "1c9891c4-953f-4018-9910-61690a594009",
   "metadata": {},
   "outputs": [
    {
     "name": "stdout",
     "output_type": "stream",
     "text": [
      "478"
     ]
    }
   ],
   "source": [
    "list=[4,25,78,95,45]\n",
    "for i in list:\n",
    "    if i%2==0:\n",
    "        print(i, end=\"\")"
   ]
  },
  {
   "cell_type": "code",
   "execution_count": 9,
   "id": "b82f6332-15ee-4253-b238-f5c4327ac019",
   "metadata": {},
   "outputs": [
    {
     "name": "stdout",
     "output_type": "stream",
     "text": [
      "123456789101112131412345678910111213141516171819202122232425262728293031323334353637383940414243444546474849505152535455561234567891011121314151617181920212223242526272829303132333435363738394041424344454647484950515253545556575859606162636465666712345678910111213141516171819202122232425262728293031323334353637383940414243444546474849505152535455565758596061626364656667686970717273747576777812345678910111213141516171819202122232425262728293031321234567891011121314151617181920212223242526272829303132333435363738394041424344454647484950515253545556575859606162636465666768697071727374757677787980818283848586878889909192"
     ]
    }
   ],
   "source": [
    "list=[14,56,67,78,32,92]\n",
    "fact=0\n",
    "for i in list:\n",
    "    #i=34\n",
    "    for j in range(1, i+1):\n",
    "        print(j, end=\"\")"
   ]
  },
  {
   "cell_type": "code",
   "execution_count": 11,
   "id": "c7000a77-6288-4e50-a80f-d2a1341c9015",
   "metadata": {},
   "outputs": [
    {
     "name": "stdout",
     "output_type": "stream",
     "text": [
      "127141247814285616712361326397812481632124234692"
     ]
    }
   ],
   "source": [
    "list=[14,56,67,78,32,92]\n",
    "fact=0\n",
    "for i in list:\n",
    "    #i=34\n",
    "    for j in range(1, i+1):\n",
    "        if i%j==0:\n",
    "            print(j, end=\"\")"
   ]
  },
  {
   "cell_type": "code",
   "execution_count": 12,
   "id": "3177a5e1-28cc-4774-b978-cd5320d55a30",
   "metadata": {},
   "outputs": [
    {
     "name": "stdout",
     "output_type": "stream",
     "text": [
      "67 11 13 17 "
     ]
    }
   ],
   "source": [
    "list=[34,56,67,78,32,90,11,13,17]\n",
    "fact=0\n",
    "for i in list:\n",
    "    fact=0\n",
    "    for j in range(1, (i+1)):\n",
    "        if i%j==0:\n",
    "            fact=fact+1\n",
    "    if fact==2:\n",
    "        print(i, end=\" \")"
   ]
  },
  {
   "cell_type": "code",
   "execution_count": 13,
   "id": "06e65ce3-5d85-4c1f-8aab-a05c43490c41",
   "metadata": {},
   "outputs": [
    {
     "name": "stdout",
     "output_type": "stream",
     "text": [
      "78\n"
     ]
    }
   ],
   "source": [
    "list=[34,56,67,78,32,90,11,13,17]\n",
    "list.sort(reverse=True)\n",
    "print(list[1])"
   ]
  },
  {
   "cell_type": "code",
   "execution_count": null,
   "id": "ec5086b3-d45d-49f7-88fb-9ca215782574",
   "metadata": {},
   "outputs": [],
   "source": [
    "# write  a program to find number of words in a given string\n",
    "# input=Hi hello this is Nagul\n",
    "# output=5"
   ]
  },
  {
   "cell_type": "code",
   "execution_count": 15,
   "id": "626dd056-5a6a-46bb-930f-38386a84d470",
   "metadata": {},
   "outputs": [
    {
     "name": "stdout",
     "output_type": "stream",
     "text": [
      "5\n"
     ]
    }
   ],
   "source": [
    "\n",
    "text = \"Hi hello this is Nagul\"\n",
    "words = text.split()\n",
    "count = len(words)\n",
    "print(count)\n"
   ]
  },
  {
   "cell_type": "code",
   "execution_count": 14,
   "id": "60242671-9a23-473f-a9d0-8195a1cbb805",
   "metadata": {},
   "outputs": [
    {
     "name": "stdout",
     "output_type": "stream",
     "text": [
      "Hi  --  2\n",
      "hello  --  5\n",
      "this  --  4\n",
      "is  --  2\n",
      "Nagul  --  5\n"
     ]
    }
   ],
   "source": [
    "# Write a program to find number of characters in each word in a given setnece\n",
    "# input : Hi hello this is Nagul\n",
    "#output:\n",
    "#   Hi  -- 2\n",
    "#   hello  - 5\n",
    "#   this  -- 4\n",
    "#   is    - 2\n",
    "#   Nagul  - 5\n",
    " \n",
    "str=\"Hi hello this is Nagul\"\n",
    "words=str.split(\" \")\n",
    "for word in words:\n",
    "    print(word,\" -- \", len(word))"
   ]
  },
  {
   "cell_type": "code",
   "execution_count": null,
   "id": "dff04483-8dc0-4c25-a4a5-255225724042",
   "metadata": {},
   "outputs": [],
   "source": [
    "\"\"\"write a logic to find\n",
    "no.of alphabets\n",
    "no.of digits\n",
    "no.of special characters\n",
    "in each word of a given sentence\n",
    "input: Hi12 Hello$ This@ is Nagu17\n",
    "output:\n",
    "Hi12:alphabets:2\n",
    "    digits:2\n",
    "    special chars:0\n",
    "Hello$:alphabets:5\n",
    "    digits:0\n",
    "    special chars:1\n",
    "This@:alphabets:4\n",
    "    digits:0\n",
    "    special chars:1\n",
    "is:alphabets:2\n",
    "    digits:0\n",
    "    special chars:0\n",
    "Nagu17:alphabets:4\n",
    "    digits:2\n",
    "    special chars:0\"\"\"\n"
   ]
  },
  {
   "cell_type": "code",
   "execution_count": 16,
   "id": "f74d008b-edd4-408f-8cc6-fd6515f87ea1",
   "metadata": {},
   "outputs": [
    {
     "name": "stdout",
     "output_type": "stream",
     "text": [
      "Hi12:\n",
      "  alphabets:2\n",
      "  digits:2\n",
      "  special chars:0\n",
      "Hello$:\n",
      "  alphabets:5\n",
      "  digits:0\n",
      "  special chars:1\n",
      "This@:\n",
      "  alphabets:4\n",
      "  digits:0\n",
      "  special chars:1\n",
      "is:\n",
      "  alphabets:2\n",
      "  digits:0\n",
      "  special chars:0\n",
      "Nagu17:\n",
      "  alphabets:4\n",
      "  digits:2\n",
      "  special chars:0\n"
     ]
    }
   ],
   "source": [
    "\n",
    "sentence = \"Hi12 Hello$ This@ is Nagu17\"\n",
    "words = sentence.split()\n",
    "for word in words:\n",
    "    alphabets = digits = special = 0\n",
    "    for ch in word:\n",
    "        if ch.isalpha():\n",
    "            alphabets += 1\n",
    "        elif ch.isdigit():\n",
    "            digits += 1\n",
    "        else:\n",
    "            special += 1\n",
    "    print(f\"{word}:\")\n",
    "    print(f\"  alphabets:{alphabets}\")\n",
    "    print(f\"  digits:{digits}\")\n",
    "    print(f\"  special chars:{special}\")\n"
   ]
  },
  {
   "cell_type": "code",
   "execution_count": null,
   "id": "baf699ad-3592-41d2-8da2-f6465a529005",
   "metadata": {},
   "outputs": [],
   "source": [
    "# Tuple allows duplicate values\n",
    "# it follows the indexing order\n",
    "# it is immutable"
   ]
  },
  {
   "cell_type": "code",
   "execution_count": 18,
   "id": "69f0e1c4-6c50-4166-9c3a-f68bd7f85812",
   "metadata": {},
   "outputs": [
    {
     "name": "stdout",
     "output_type": "stream",
     "text": [
      "[12, 45, 86, 95, 53]\n",
      "45\n",
      "Max: 95\n",
      "Min: 12\n",
      "Total: 291\n",
      "No.of values: 5\n"
     ]
    },
    {
     "data": {
      "text/plain": [
       "[53, 95, 86, 45, 12]"
      ]
     },
     "execution_count": 18,
     "metadata": {},
     "output_type": "execute_result"
    }
   ],
   "source": [
    "a=[12,45,86,95,53]\n",
    "print(a)\n",
    "print(a[1])\n",
    "print(\"Max:\",max(a))\n",
    "print(\"Min:\",min(a))\n",
    "print(\"Total:\",sum(a))\n",
    "print(\"No.of values:\",len(a))\n",
    "a[1]\n",
    "a[:]\n",
    "a[2:]\n",
    "a[:5]\n",
    "a[-1]\n",
    "a[::]\n",
    "a[::-1]"
   ]
  },
  {
   "cell_type": "markdown",
   "id": "101ea293-8e77-40d6-81d9-5cea7c094279",
   "metadata": {},
   "source": [
    "# Differences Between List and Tuple in Python\n",
    "\n",
    "1. *Mutability*\n",
    "   - *List* is mutable: you can change its elements.\n",
    "     python\n",
    "     my_list = [23, 66, 77]\n",
    "     my_list[1] = 99  # [23, 99, 77]\n",
    "     \n",
    "   - *Tuple* is immutable: you cannot change its elements.\n",
    "     python\n",
    "     my_tuple = (23, 66, 77)\n",
    "     my_tuple[1] = 99  # Throws an error\n",
    "     \n",
    "\n",
    "2. *Duplicates and Indexing*\n",
    "   - Both *List* and *Tuple* allow duplicate values and maintain the order of elements.\n",
    "\n",
    "3. *Type Casting*\n",
    "   - Converting a tuple to a list:\n",
    "     python\n",
    "     t = (23, 12, 33, 44)\n",
    "     lst = list(t)  # [23, 12, 33, 44]\n",
    "     \n",
    "   - Converting a list to a tuple:\n",
    "     python\n",
    "     l = [11, 99, 33, 53, 66]\n",
    "     t = tuple(l)  # (11, 99, 33, 53, 66)\n",
    "     \n",
    "It is unordered data structure till python 3.6 version , from 3.7 it is ordered and mutable"
   ]
  },
  {
   "cell_type": "code",
   "execution_count": 19,
   "id": "0ea8443f-6cf1-483a-9887-812fa9483575",
   "metadata": {},
   "outputs": [
    {
     "name": "stdout",
     "output_type": "stream",
     "text": [
      "Ram\n",
      "{12: 'Venkatesh', 34: 'Pavan', 56: 'Suhel'}\n",
      "dict_keys([12, 34, 56])\n",
      "dict_values(['Venkatesh', 'Pavan', 'Suhel'])\n",
      "dict_items([(12, 'Venkatesh'), (34, 'Pavan'), (56, 'Suhel')])\n"
     ]
    }
   ],
   "source": [
    "dict={12: 'Ram', 34: 'Pavan', 56: 'Suhel'}\n",
    "print(dict.get(12))\n",
    "dict[12]='Venkatesh'\n",
    "print(dict)\n",
    "print(dict.keys()) #Display all the keys of Dict\n",
    "print(dict.values()) # Display all the values of Dict\n",
    "print(dict.items())#Display all the keys & values of Dict"
   ]
  },
  {
   "cell_type": "code",
   "execution_count": null,
   "id": "e2bb5e91-bfae-43a2-9e0f-7cc18a7c796e",
   "metadata": {},
   "outputs": [],
   "source": []
  }
 ],
 "metadata": {
  "kernelspec": {
   "display_name": "Python [conda env:base] *",
   "language": "python",
   "name": "conda-base-py"
  },
  "language_info": {
   "codemirror_mode": {
    "name": "ipython",
    "version": 3
   },
   "file_extension": ".py",
   "mimetype": "text/x-python",
   "name": "python",
   "nbconvert_exporter": "python",
   "pygments_lexer": "ipython3",
   "version": "3.13.5"
  }
 },
 "nbformat": 4,
 "nbformat_minor": 5
}
